{
 "cells": [
  {
   "cell_type": "code",
   "execution_count": 1,
   "metadata": {
    "ExecuteTime": {
     "end_time": "2019-01-13T16:26:09.023246Z",
     "start_time": "2019-01-13T16:26:01.065662Z"
    }
   },
   "outputs": [
    {
     "name": "stdout",
     "output_type": "stream",
     "text": [
      "Enter a number or just enter to quit: 10\n",
      "Enter a number or just enter to quit: 230\n",
      "Enter a number or just enter to quit: 10\n",
      "Enter a number or just enter to quit: 30\n",
      "Enter a number or just enter to quit: \n",
      "The sum is 280.0\n"
     ]
    }
   ],
   "source": [
    "# -*- coding: utf-8 -*-\n",
    "\"\"\"\n",
    "Created on Sun Jan 13 08:17:10 2019\n",
    "\n",
    "@author: Byen23\n",
    "\"\"\"\n",
    "\n",
    "# This will be the 10th Program to be uploaded to github\n",
    "\n",
    "\"\"\"Conditional Iteration: The while Loop\"\"\"\n",
    "\n",
    "\"\"\" The following example is a short script that prompts the user for a series of numbers, computes their sum, and outputs the result. Instead of forcing the user to enter a definite number of values, the program stops the input process when the user simply presses the return or enter key. The program recognizes this value as the empty string. We first present a rough draft in the form of a pseudocode algorithm:\"\"\"\n",
    "\n",
    "# 1.Set the sum to 0.0\n",
    "# 2.Input a string\n",
    "# 3.While the string is not the empty string\n",
    "#\t 4.Convert the string to a float\n",
    "#\t 5.Add the float to the sum\n",
    "#\t 6.Input a string\n",
    "# 7.Print the sum\n",
    "\n",
    "theSum = 0.0 #1\n",
    "\n",
    "data = input(\"Enter a number or just enter to quit: \") #2\n",
    "while data != \"\": \t#3\n",
    "\tnumber = float(data)\t#4\n",
    "\ttheSum += number \t#5\n",
    "\tdata = input(\"Enter a number or just enter to quit: \")\t#6\n",
    "print(\"The sum is\", theSum)\t#7\n"
   ]
  }
 ],
 "metadata": {
  "kernelspec": {
   "display_name": "Python 3",
   "language": "python",
   "name": "python3"
  },
  "language_info": {
   "codemirror_mode": {
    "name": "ipython",
    "version": 3
   },
   "file_extension": ".py",
   "mimetype": "text/x-python",
   "name": "python",
   "nbconvert_exporter": "python",
   "pygments_lexer": "ipython3",
   "version": "3.6.7"
  }
 },
 "nbformat": 4,
 "nbformat_minor": 2
}
